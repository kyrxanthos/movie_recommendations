{
 "cells": [
  {
   "cell_type": "code",
   "execution_count": 1,
   "metadata": {},
   "outputs": [],
   "source": [
    "import numpy as np\n",
    "import pandas as pd\n",
    "import matplotlib.pyplot as plt\n",
    "import seaborn as sns"
   ]
  },
  {
   "cell_type": "code",
   "execution_count": 3,
   "metadata": {},
   "outputs": [
    {
     "data": {
      "text/html": [
       "<div>\n",
       "<style scoped>\n",
       "    .dataframe tbody tr th:only-of-type {\n",
       "        vertical-align: middle;\n",
       "    }\n",
       "\n",
       "    .dataframe tbody tr th {\n",
       "        vertical-align: top;\n",
       "    }\n",
       "\n",
       "    .dataframe thead th {\n",
       "        text-align: right;\n",
       "    }\n",
       "</style>\n",
       "<table border=\"1\" class=\"dataframe\">\n",
       "  <thead>\n",
       "    <tr style=\"text-align: right;\">\n",
       "      <th></th>\n",
       "      <th>Const</th>\n",
       "      <th>Your Rating</th>\n",
       "      <th>Date Rated</th>\n",
       "      <th>Title</th>\n",
       "      <th>URL</th>\n",
       "      <th>Title Type</th>\n",
       "      <th>IMDb Rating</th>\n",
       "      <th>Runtime (mins)</th>\n",
       "      <th>Year</th>\n",
       "      <th>Genres</th>\n",
       "      <th>Num Votes</th>\n",
       "      <th>Release Date</th>\n",
       "      <th>Directors</th>\n",
       "    </tr>\n",
       "  </thead>\n",
       "  <tbody>\n",
       "    <tr>\n",
       "      <th>0</th>\n",
       "      <td>tt10048342</td>\n",
       "      <td>9</td>\n",
       "      <td>2020-10-27</td>\n",
       "      <td>The Queen's Gambit</td>\n",
       "      <td>https://www.imdb.com/title/tt10048342/</td>\n",
       "      <td>tvMiniSeries</td>\n",
       "      <td>8.6</td>\n",
       "      <td>60</td>\n",
       "      <td>2020</td>\n",
       "      <td>Drama</td>\n",
       "      <td>438251</td>\n",
       "      <td>2020-10-23</td>\n",
       "      <td>NaN</td>\n",
       "    </tr>\n",
       "    <tr>\n",
       "      <th>1</th>\n",
       "      <td>tt1013752</td>\n",
       "      <td>9</td>\n",
       "      <td>2013-07-19</td>\n",
       "      <td>Fast &amp; Furious</td>\n",
       "      <td>https://www.imdb.com/title/tt1013752/</td>\n",
       "      <td>movie</td>\n",
       "      <td>6.5</td>\n",
       "      <td>107</td>\n",
       "      <td>2009</td>\n",
       "      <td>Action, Crime, Thriller</td>\n",
       "      <td>287424</td>\n",
       "      <td>2009-03-12</td>\n",
       "      <td>Justin Lin</td>\n",
       "    </tr>\n",
       "    <tr>\n",
       "      <th>2</th>\n",
       "      <td>tt0101414</td>\n",
       "      <td>7</td>\n",
       "      <td>2014-05-15</td>\n",
       "      <td>Beauty and the Beast</td>\n",
       "      <td>https://www.imdb.com/title/tt0101414/</td>\n",
       "      <td>movie</td>\n",
       "      <td>8.0</td>\n",
       "      <td>84</td>\n",
       "      <td>1991</td>\n",
       "      <td>Animation, Family, Fantasy, Musical, Romance</td>\n",
       "      <td>453572</td>\n",
       "      <td>1991-09-29</td>\n",
       "      <td>Kirk Wise, Gary Trousdale</td>\n",
       "    </tr>\n",
       "    <tr>\n",
       "      <th>3</th>\n",
       "      <td>tt1014759</td>\n",
       "      <td>7</td>\n",
       "      <td>2013-12-26</td>\n",
       "      <td>Alice in Wonderland</td>\n",
       "      <td>https://www.imdb.com/title/tt1014759/</td>\n",
       "      <td>movie</td>\n",
       "      <td>6.4</td>\n",
       "      <td>108</td>\n",
       "      <td>2010</td>\n",
       "      <td>Adventure, Family, Fantasy, Mystery</td>\n",
       "      <td>414501</td>\n",
       "      <td>2010-02-25</td>\n",
       "      <td>Tim Burton</td>\n",
       "    </tr>\n",
       "    <tr>\n",
       "      <th>4</th>\n",
       "      <td>tt1023111</td>\n",
       "      <td>6</td>\n",
       "      <td>2016-09-16</td>\n",
       "      <td>Never Back Down</td>\n",
       "      <td>https://www.imdb.com/title/tt1023111/</td>\n",
       "      <td>movie</td>\n",
       "      <td>6.5</td>\n",
       "      <td>113</td>\n",
       "      <td>2008</td>\n",
       "      <td>Action, Drama, Sport</td>\n",
       "      <td>102064</td>\n",
       "      <td>2008-03-04</td>\n",
       "      <td>Jeff Wadlow</td>\n",
       "    </tr>\n",
       "  </tbody>\n",
       "</table>\n",
       "</div>"
      ],
      "text/plain": [
       "        Const  Your Rating  Date Rated                 Title  \\\n",
       "0  tt10048342            9  2020-10-27    The Queen's Gambit   \n",
       "1   tt1013752            9  2013-07-19        Fast & Furious   \n",
       "2   tt0101414            7  2014-05-15  Beauty and the Beast   \n",
       "3   tt1014759            7  2013-12-26   Alice in Wonderland   \n",
       "4   tt1023111            6  2016-09-16       Never Back Down   \n",
       "\n",
       "                                      URL    Title Type  IMDb Rating  \\\n",
       "0  https://www.imdb.com/title/tt10048342/  tvMiniSeries          8.6   \n",
       "1   https://www.imdb.com/title/tt1013752/         movie          6.5   \n",
       "2   https://www.imdb.com/title/tt0101414/         movie          8.0   \n",
       "3   https://www.imdb.com/title/tt1014759/         movie          6.4   \n",
       "4   https://www.imdb.com/title/tt1023111/         movie          6.5   \n",
       "\n",
       "   Runtime (mins)  Year                                        Genres  \\\n",
       "0              60  2020                                         Drama   \n",
       "1             107  2009                       Action, Crime, Thriller   \n",
       "2              84  1991  Animation, Family, Fantasy, Musical, Romance   \n",
       "3             108  2010           Adventure, Family, Fantasy, Mystery   \n",
       "4             113  2008                          Action, Drama, Sport   \n",
       "\n",
       "   Num Votes Release Date                  Directors  \n",
       "0     438251   2020-10-23                        NaN  \n",
       "1     287424   2009-03-12                 Justin Lin  \n",
       "2     453572   1991-09-29  Kirk Wise, Gary Trousdale  \n",
       "3     414501   2010-02-25                 Tim Burton  \n",
       "4     102064   2008-03-04                Jeff Wadlow  "
      ]
     },
     "execution_count": 3,
     "metadata": {},
     "output_type": "execute_result"
    }
   ],
   "source": [
    "df = pd.read_csv('data/kyr_ratings.csv')\n",
    "df.head()"
   ]
  },
  {
   "cell_type": "code",
   "execution_count": 7,
   "metadata": {},
   "outputs": [
    {
     "data": {
      "text/plain": [
       "Const              object\n",
       "Your Rating         int64\n",
       "Date Rated         object\n",
       "Title              object\n",
       "URL                object\n",
       "Title Type         object\n",
       "IMDb Rating       float64\n",
       "Runtime (mins)      int64\n",
       "Year                int64\n",
       "Genres             object\n",
       "Num Votes           int64\n",
       "Release Date       object\n",
       "Directors          object\n",
       "dtype: object"
      ]
     },
     "execution_count": 7,
     "metadata": {},
     "output_type": "execute_result"
    }
   ],
   "source": [
    "df.dtypes"
   ]
  },
  {
   "cell_type": "code",
   "execution_count": 5,
   "metadata": {},
   "outputs": [
    {
     "data": {
      "text/html": [
       "<div>\n",
       "<style scoped>\n",
       "    .dataframe tbody tr th:only-of-type {\n",
       "        vertical-align: middle;\n",
       "    }\n",
       "\n",
       "    .dataframe tbody tr th {\n",
       "        vertical-align: top;\n",
       "    }\n",
       "\n",
       "    .dataframe thead th {\n",
       "        text-align: right;\n",
       "    }\n",
       "</style>\n",
       "<table border=\"1\" class=\"dataframe\">\n",
       "  <thead>\n",
       "    <tr style=\"text-align: right;\">\n",
       "      <th></th>\n",
       "      <th>Your Rating</th>\n",
       "      <th>IMDb Rating</th>\n",
       "      <th>Runtime (mins)</th>\n",
       "      <th>Year</th>\n",
       "      <th>Num Votes</th>\n",
       "    </tr>\n",
       "  </thead>\n",
       "  <tbody>\n",
       "    <tr>\n",
       "      <th>count</th>\n",
       "      <td>635.000000</td>\n",
       "      <td>635.00000</td>\n",
       "      <td>635.000000</td>\n",
       "      <td>635.000000</td>\n",
       "      <td>6.350000e+02</td>\n",
       "    </tr>\n",
       "    <tr>\n",
       "      <th>mean</th>\n",
       "      <td>7.862992</td>\n",
       "      <td>7.34378</td>\n",
       "      <td>115.351181</td>\n",
       "      <td>2007.299213</td>\n",
       "      <td>4.736960e+05</td>\n",
       "    </tr>\n",
       "    <tr>\n",
       "      <th>std</th>\n",
       "      <td>1.206633</td>\n",
       "      <td>0.88507</td>\n",
       "      <td>34.329005</td>\n",
       "      <td>11.958996</td>\n",
       "      <td>3.978137e+05</td>\n",
       "    </tr>\n",
       "    <tr>\n",
       "      <th>min</th>\n",
       "      <td>1.000000</td>\n",
       "      <td>4.50000</td>\n",
       "      <td>22.000000</td>\n",
       "      <td>1941.000000</td>\n",
       "      <td>4.255000e+03</td>\n",
       "    </tr>\n",
       "    <tr>\n",
       "      <th>25%</th>\n",
       "      <td>7.000000</td>\n",
       "      <td>6.60000</td>\n",
       "      <td>100.000000</td>\n",
       "      <td>2003.000000</td>\n",
       "      <td>2.031440e+05</td>\n",
       "    </tr>\n",
       "    <tr>\n",
       "      <th>50%</th>\n",
       "      <td>8.000000</td>\n",
       "      <td>7.40000</td>\n",
       "      <td>115.000000</td>\n",
       "      <td>2011.000000</td>\n",
       "      <td>3.756530e+05</td>\n",
       "    </tr>\n",
       "    <tr>\n",
       "      <th>75%</th>\n",
       "      <td>9.000000</td>\n",
       "      <td>8.00000</td>\n",
       "      <td>130.000000</td>\n",
       "      <td>2014.000000</td>\n",
       "      <td>6.279840e+05</td>\n",
       "    </tr>\n",
       "    <tr>\n",
       "      <th>max</th>\n",
       "      <td>10.000000</td>\n",
       "      <td>9.50000</td>\n",
       "      <td>491.000000</td>\n",
       "      <td>2022.000000</td>\n",
       "      <td>2.653318e+06</td>\n",
       "    </tr>\n",
       "  </tbody>\n",
       "</table>\n",
       "</div>"
      ],
      "text/plain": [
       "       Your Rating  IMDb Rating  Runtime (mins)         Year     Num Votes\n",
       "count   635.000000    635.00000      635.000000   635.000000  6.350000e+02\n",
       "mean      7.862992      7.34378      115.351181  2007.299213  4.736960e+05\n",
       "std       1.206633      0.88507       34.329005    11.958996  3.978137e+05\n",
       "min       1.000000      4.50000       22.000000  1941.000000  4.255000e+03\n",
       "25%       7.000000      6.60000      100.000000  2003.000000  2.031440e+05\n",
       "50%       8.000000      7.40000      115.000000  2011.000000  3.756530e+05\n",
       "75%       9.000000      8.00000      130.000000  2014.000000  6.279840e+05\n",
       "max      10.000000      9.50000      491.000000  2022.000000  2.653318e+06"
      ]
     },
     "execution_count": 5,
     "metadata": {},
     "output_type": "execute_result"
    }
   ],
   "source": [
    "df.describe()"
   ]
  },
  {
   "cell_type": "code",
   "execution_count": 19,
   "metadata": {},
   "outputs": [
    {
     "data": {
      "image/png": "[encoded data removed]",
      "text/plain": [
       "<Figure size 432x288 with 1 Axes>"
      ]
     },
     "metadata": {
      "needs_background": "light"
     },
     "output_type": "display_data"
    },
    {
     "data": {
      "image/png": "[encoded data removed]",
      "text/plain": [
       "<Figure size 432x288 with 1 Axes>"
      ]
     },
     "metadata": {
      "needs_background": "light"
     },
     "output_type": "display_data"
    },
    {
     "data": {
      "image/png": "[encoded data removed]",
      "text/plain": [
       "<Figure size 432x288 with 1 Axes>"
      ]
     },
     "metadata": {
      "needs_background": "light"
     },
     "output_type": "display_data"
    },
    {
     "data": {
      "image/png": "[encoded data removed]",
      "text/plain": [
       "<Figure size 432x288 with 1 Axes>"
      ]
     },
     "metadata": {
      "needs_background": "light"
     },
     "output_type": "display_data"
    },
    {
     "data": {
      "image/png": "[encoded data removed]",
      "text/plain": [
       "<Figure size 432x288 with 1 Axes>"
      ]
     },
     "metadata": {
      "needs_background": "light"
     },
     "output_type": "display_data"
    }
   ],
   "source": [
    "for n, i in enumerate(list(df.columns)[1:]):\n",
    "    try:\n",
    "        df.hist(i)\n",
    "    except ValueError:\n",
    "        pass"
   ]
  },
  {
   "cell_type": "code",
   "execution_count": null,
   "metadata": {},
   "outputs": [],
   "source": []
  }
 ],
 "metadata": {
  "kernelspec": {
   "display_name": "DL",
   "language": "python",
   "name": "python3"
  },
  "language_info": {
   "codemirror_mode": {
    "name": "ipython",
    "version": 3
   },
   "file_extension": ".py",
   "mimetype": "text/x-python",
   "name": "python",
   "nbconvert_exporter": "python",
   "pygments_lexer": "ipython3",
   "version": "3.7.11"
  },
  "orig_nbformat": 4,
  "vscode": {
   "interpreter": {
    "hash": "4ea4ae45c481d49b1f7ee32c400286c37e8040db9d409996f2cf49118c022492"
   }
  }
 },
 "nbformat": 4,
 "nbformat_minor": 2
}
